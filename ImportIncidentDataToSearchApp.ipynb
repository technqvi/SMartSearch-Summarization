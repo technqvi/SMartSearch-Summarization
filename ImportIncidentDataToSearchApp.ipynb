{
 "cells": [
  {
   "cell_type": "code",
   "execution_count": null,
   "id": "9aa347e5-82e0-47af-b9c4-e3edd83e3153",
   "metadata": {
    "tags": []
   },
   "outputs": [],
   "source": [
    "# def import_incident_json_to_search_datestore(list_json:list[str],config,import_mode=\"INCREMENTAL\")  :\n",
    "# \"\"\"\n",
    "# Import json data to Vertex AI Search DataStore.\n",
    "# Args:\n",
    "#     list_json (list[str]): List json files.\n",
    "#     config : .env Config file\n",
    "#     import_mode : import_mode=FULL for 1st time, and import_mode=INCREMENTAL\n",
    "# \"\"\""
   ]
  },
  {
   "cell_type": "markdown",
   "id": "b80eee0b-6a92-4c99-b43d-61d32d7b6bd3",
   "metadata": {},
   "source": [
    "# Link reference \n",
    "* https://cloud.google.com/generative-ai-app-builder/docs/samples/genappbuilder-import-documents?hl=en\n",
    "* https://cloud.google.com/generative-ai-app-builder/docs/samples/genappbuilder-list-documents?hl=en"
   ]
  },
  {
   "cell_type": "markdown",
   "id": "ccb741f9-ccc9-43ea-ae9c-cbe3bbe92e20",
   "metadata": {},
   "source": [
    "# Step to import each file in GS to datastore increamentally\n",
    "* To get datastore id and scheme definition generation , we need to create data store and import json file via Console \n",
    "* Purge data and re-import programatice with Full Mode\n",
    "* This way, you get  get your custom id (incident id) from importing as document id "
   ]
  },
  {
   "cell_type": "code",
   "execution_count": null,
   "id": "fa85c4e2-8d2a-49c3-adee-1c23a0df1d8a",
   "metadata": {
    "tags": []
   },
   "outputs": [],
   "source": [
    "# uncomment\n",
    "# listNDJsonFiles=list_json\n",
    "listNDJsonFiles=['23122023-daily_incident.ndjson']\n"
   ]
  },
  {
   "cell_type": "code",
   "execution_count": null,
   "id": "8044bdf1-76a4-4fe9-94ef-919dc139463c",
   "metadata": {
    "tags": []
   },
   "outputs": [],
   "source": [
    "from google.api_core.client_options import ClientOptions\n",
    "from google.cloud import discoveryengine\n",
    "import os\n",
    "from dotenv import dotenv_values\n"
   ]
  },
  {
   "cell_type": "code",
   "execution_count": null,
   "id": "024e9f74-0059-4a37-a862-7db9503c9a92",
   "metadata": {
    "tags": []
   },
   "outputs": [],
   "source": [
    "# remove\n",
    "env_path='.env'\n",
    "config = dotenv_values(dotenv_path=env_path)\n",
    "\n",
    "my_data_store_id = config['SEARCH_DATA_STORE']\n",
    "target_gs_bucket=config['TARGET_SEARCH_GS_PATH']\n",
    "\n",
    "\n",
    "my_project_id=config[\"PROJECT_ID\"]\n",
    "my_location = config[\"LOCATION\"] # Values: \"global\"\n",
    "\n",
    "#Options: 'FULL', 'INCREMENTAL'\n",
    "my_mode=import_mode\n",
    "# it is unlikely to import n item(1 files /1 incident)  from gs at once because we can not control limit of no.file in bucket (default :100 files)\n",
    "# if  my_mode==\"FULL\":  # The full mode \n",
    "#     my_gcs=f\"gs://{target_gs_bucket}/*.ndjson\"\n",
    "# else:\n",
    "# import individual file over the list , it have to be incremantal\n",
    "# however, if you are attemping to insert data with Full , you will always get one file as last file imported \n",
    "my_gcs=f\"gs://{target_gs_bucket}/\"  \n",
    "print(my_gcs)"
   ]
  },
  {
   "cell_type": "code",
   "execution_count": null,
   "id": "93255fdf-b683-42f7-989e-4a66f961d947",
   "metadata": {
    "tags": []
   },
   "outputs": [],
   "source": [
    "def import_documents_from_gs_to_datastore(\n",
    "    import_mode:str, \n",
    "    project_id: str,\n",
    "    location: str,\n",
    "    data_store_id: str,\n",
    "    gcs_uri: str\n",
    ") -> str:\n",
    "    #  For more information, refer to:\n",
    "    # https://cloud.google.com/generative-ai-app-builder/docs/locations#specify_a_multi-region_for_your_data_store\n",
    "    client_options = (\n",
    "        ClientOptions(api_endpoint=f\"{location}-discoveryengine.googleapis.com\")\n",
    "        if location != \"global\"\n",
    "        else None\n",
    "    )\n",
    "    if import_mode.upper()=='FULL':\n",
    "        selective_mode=discoveryengine.ImportDocumentsRequest.ReconciliationMode.FULL\n",
    "    else:\n",
    "        selective_mode=discoveryengine.ImportDocumentsRequest.ReconciliationMode.INCREMENTAL\n",
    "\n",
    "    # Create a client\n",
    "    client = discoveryengine.DocumentServiceClient(client_options=client_options)\n",
    "\n",
    "    # The full resource name of the search engine branch.\n",
    "    # e.g. projects/{project}/locations/{location}/dataStores/{data_store_id}/branches/{branch}\n",
    "    parent = client.branch_path(\n",
    "        project=project_id,\n",
    "        location=location,\n",
    "        data_store=data_store_id,\n",
    "        branch=\"default_branch\",\n",
    "    )\n",
    "\n",
    "\n",
    "    request = discoveryengine.ImportDocumentsRequest(\n",
    "        parent=parent,\n",
    "        gcs_source=discoveryengine.GcsSource(input_uris=[gcs_uri], data_schema='custom'),\n",
    "        reconciliation_mode=selective_mode\n",
    "    )\n",
    "\n",
    "    # Make the request\n",
    "    operation = client.import_documents(request=request)\n",
    "\n",
    "    print(f\"Waiting for operation to complete: {operation.operation.name}\")\n",
    "    response = operation.result()\n",
    "\n",
    "    # Once the operation is complete,\n",
    "    # get information from operation metadata\n",
    "    metadata = discoveryengine.ImportDocumentsMetadata(operation.metadata)\n",
    "\n",
    "    # Handle the response\n",
    "    print(response)\n",
    "    print(metadata)\n",
    "\n",
    "    return operation.operation.name\n",
    "\n"
   ]
  },
  {
   "cell_type": "code",
   "execution_count": null,
   "id": "ee3e6373-b360-4a5e-ba0e-8d499f791193",
   "metadata": {
    "tags": []
   },
   "outputs": [],
   "source": [
    "\n",
    "# Incremetal mode because of 100 files limitation issue\n",
    "listNDJsonPath=[  os.path.join(my_gcs,file_name) for file_name in listNDJsonFiles   ]\n",
    "print(f\"{listNDJsonPath}\")\n",
    "for json_file in listNDJsonPath:\n",
    " print(json_file)   \n",
    " opt_name=import_documents_from_gs_to_datastore(import_mode=my_mode, project_id=my_project_id,location=my_location\n",
    "                                 ,data_store_id=my_data_store_id,gcs_uri= json_file)\n"
   ]
  },
  {
   "cell_type": "code",
   "execution_count": null,
   "id": "3d7c90a9-5cb3-473d-825e-e78878d83103",
   "metadata": {},
   "outputs": [],
   "source": []
  },
  {
   "cell_type": "code",
   "execution_count": null,
   "id": "551cb08a-c9e7-4792-ba03-24b52aa44757",
   "metadata": {},
   "outputs": [],
   "source": [
    "# return True"
   ]
  }
 ],
 "metadata": {
  "kernelspec": {
   "display_name": "Python 3 (ipykernel)",
   "language": "python",
   "name": "python3"
  },
  "language_info": {
   "codemirror_mode": {
    "name": "ipython",
    "version": 3
   },
   "file_extension": ".py",
   "mimetype": "text/x-python",
   "name": "python",
   "nbconvert_exporter": "python",
   "pygments_lexer": "ipython3",
   "version": "3.10.12"
  }
 },
 "nbformat": 4,
 "nbformat_minor": 5
}
