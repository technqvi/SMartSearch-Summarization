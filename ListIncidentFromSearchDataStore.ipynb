{
 "cells": [
  {
   "cell_type": "code",
   "execution_count": null,
   "id": "682917fe-57b4-410e-a882-c78fc7c71663",
   "metadata": {
    "tags": []
   },
   "outputs": [],
   "source": [
    "from typing import Any\n",
    "\n",
    "from google.api_core.client_options import ClientOptions\n",
    "from google.cloud import discoveryengine"
   ]
  },
  {
   "cell_type": "code",
   "execution_count": null,
   "id": "9399eb6b-e035-45dd-b8a8-9812c9043d52",
   "metadata": {
    "tags": []
   },
   "outputs": [],
   "source": [
    "my_project_id = \"pongthorn\"\n",
    "my_location = \"global\"            # Values: \"global\", \"us\", \"eu\"\n",
    "my_data_store_id = \"incident-datastore-demo1_xxxxxx\""
   ]
  },
  {
   "cell_type": "code",
   "execution_count": null,
   "id": "7fe3b03b-1335-40c4-b6fd-f619178472b1",
   "metadata": {
    "tags": []
   },
   "outputs": [],
   "source": [
    "def list_documents_sample(project_id: str, location: str, data_store_id: str) -> Any:\n",
    "    #  For more information, refer to:\n",
    "    # https://cloud.google.com/generative-ai-app-builder/docs/locations#specify_a_multi-region_for_your_data_store\n",
    "    client_options = (\n",
    "        ClientOptions(api_endpoint=f\"{location}-discoveryengine.googleapis.com\")\n",
    "        if location != \"global\"\n",
    "        else None\n",
    "    )\n",
    "\n",
    "    # Create a client\n",
    "    client = discoveryengine.DocumentServiceClient(client_options=client_options)\n",
    "\n",
    "    # The full resource name of the search engine branch.\n",
    "    # e.g. projects/{project}/locations/{location}/dataStores/{data_store_id}/branches/{branch}\n",
    "    parent = client.branch_path(\n",
    "        project=project_id,\n",
    "        location=location,\n",
    "        data_store=data_store_id,\n",
    "        branch=\"default_branch\",\n",
    "    )\n",
    "\n",
    "    response = client.list_documents(parent=parent)\n",
    "\n",
    "    # print(f\"Documents in {data_store_id}:\")\n",
    "    # for result in response:\n",
    "    #     print(result)\n",
    "\n",
    "    return response\n"
   ]
  },
  {
   "cell_type": "code",
   "execution_count": null,
   "id": "48d31007-acb4-43c4-a643-3efa97954905",
   "metadata": {
    "tags": []
   },
   "outputs": [],
   "source": [
    "listResult=list_documents_sample(project_id=my_project_id,location=my_location\n",
    "                               ,data_store_id=my_data_store_id)\n"
   ]
  },
  {
   "cell_type": "code",
   "execution_count": null,
   "id": "bdf9c380-1277-40b8-a950-44b6b5c67032",
   "metadata": {},
   "outputs": [],
   "source": [
    "listResult"
   ]
  },
  {
   "cell_type": "code",
   "execution_count": null,
   "id": "261f1633-8fb2-4188-9bbd-5111be9a4583",
   "metadata": {
    "tags": []
   },
   "outputs": [],
   "source": [
    "# .items() .keys()\n",
    "for document in listResult:\n",
    "   x=document.struct_data\n",
    "   print(x.keys['url'])\n",
    "   # for a in x:\n",
    "   #     print(x['incident_no'])"
   ]
  },
  {
   "cell_type": "code",
   "execution_count": null,
   "id": "1df7c9ce-008d-4fdd-815f-7bd7128355f6",
   "metadata": {},
   "outputs": [],
   "source": [
    "from typing import List\n",
    "\n",
    "from google.api_core.client_options import ClientOptions\n",
    "#from google.cloud import discoveryengine_v1 as discoveryengine\n",
    "from google.cloud import discoveryengine_v1beta as discoveryengine\n",
    "\n",
    "\n",
    "# TODO(developer): Uncomment these variables before running the sample.\n",
    "project_id = \"pongthorn\"\n",
    "location = \"global\"                    # Values: \"global\", \"us\", \"eu\"\n",
    "data_store_id = \"incident-datastore-demo1_xxxxx\"\n",
    "search_query = \"DL360 Gen10\"\n",
    "\n",
    "\n",
    "def search_sample(\n",
    ") -> List[discoveryengine.SearchResponse]:\n",
    "    #  For more information, refer to:\n",
    "    # https://cloud.google.com/generative-ai-app-builder/docs/locations#specify_a_multi-region_for_your_data_store\n",
    "    client_options = (\n",
    "        ClientOptions(api_endpoint=f\"{location}-discoveryengine.googleapis.com\")\n",
    "        if location != \"global\"\n",
    "        else None\n",
    "    )\n",
    "\n",
    "    # Create a client\n",
    "    client = discoveryengine.SearchServiceClient(client_options=client_options)\n",
    "\n",
    "    # The full resource name of the search engine serving config\n",
    "    # e.g. projects/{project_id}/locations/{location}/dataStores/{data_store_id}/servingConfigs/{serving_config_id}\n",
    "    serving_config = client.serving_config_path(\n",
    "        project=project_id,\n",
    "        location=location,\n",
    "        data_store=data_store_id,\n",
    "        serving_config=\"default_config\",\n",
    "    )\n",
    "\n",
    "    # Optional: Configuration options for search\n",
    "    # Refer to the `ContentSearchSpec` reference for all supported fields:\n",
    "    # https://cloud.google.com/python/docs/reference/discoveryengine/latest/google.cloud.discoveryengine_v1.types.SearchRequest.ContentSearchSpec\n",
    "    content_search_spec = discoveryengine.SearchRequest.ContentSearchSpec(\n",
    "        # For information about snippets, refer to:\n",
    "        # https://cloud.google.com/generative-ai-app-builder/docs/snippets\n",
    "        snippet_spec=discoveryengine.SearchRequest.ContentSearchSpec.SnippetSpec(\n",
    "            return_snippet=True\n",
    "        ),\n",
    "        # For information about search summaries, refer to:\n",
    "        # https://cloud.google.com/generative-ai-app-builder/docs/get-search-summaries\n",
    "        summary_spec=discoveryengine.SearchRequest.ContentSearchSpec.SummarySpec(\n",
    "            summary_result_count=5,\n",
    "            include_citations=True,\n",
    "            ignore_adversarial_query=True,\n",
    "            ignore_non_summary_seeking_query=True,\n",
    "        ),\n",
    "    )\n",
    "\n",
    "    # Refer to the `SearchRequest` reference for all supported fields:\n",
    "    # https://cloud.google.com/python/docs/reference/discoveryengine/latest/google.cloud.discoveryengine_v1.types.SearchRequest\n",
    "    request = discoveryengine.SearchRequest(\n",
    "        serving_config=serving_config,\n",
    "        query=search_query,\n",
    "        page_size=10,\n",
    "        # content_search_spec=content_search_spec,\n",
    "        query_expansion_spec=discoveryengine.SearchRequest.QueryExpansionSpec(\n",
    "            condition=discoveryengine.SearchRequest.QueryExpansionSpec.Condition.AUTO,\n",
    "        ),\n",
    "        spell_correction_spec=discoveryengine.SearchRequest.SpellCorrectionSpec(\n",
    "            mode=discoveryengine.SearchRequest.SpellCorrectionSpec.Mode.AUTO\n",
    "        ),\n",
    "    )\n",
    "\n",
    "    response = client.search(request)\n",
    "    print(response)\n",
    "\n",
    "    return response\n",
    "\n",
    "search_result=search_sample()"
   ]
  },
  {
   "cell_type": "code",
   "execution_count": null,
   "id": "5789451e-503a-438f-87b4-eddc67804d5e",
   "metadata": {},
   "outputs": [],
   "source": []
  }
 ],
 "metadata": {
  "kernelspec": {
   "display_name": "Python 3 (ipykernel)",
   "language": "python",
   "name": "python3"
  },
  "language_info": {
   "codemirror_mode": {
    "name": "ipython",
    "version": 3
   },
   "file_extension": ".py",
   "mimetype": "text/x-python",
   "name": "python",
   "nbconvert_exporter": "python",
   "pygments_lexer": "ipython3",
   "version": "3.10.12"
  }
 },
 "nbformat": 4,
 "nbformat_minor": 5
}
