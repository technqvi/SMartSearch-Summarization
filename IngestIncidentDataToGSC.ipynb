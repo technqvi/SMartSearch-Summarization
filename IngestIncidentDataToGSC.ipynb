{
 "cells": [
  {
   "cell_type": "code",
   "execution_count": null,
   "id": "fe98edcc-d771-4dc7-a7f8-141e39a89d0d",
   "metadata": {
    "tags": []
   },
   "outputs": [],
   "source": [
    "# def ingest_incident_json_to_gs(list_json:list[str],config)  :\n",
    "# \"\"\"\n",
    "# Ingest json data to google cloud storage.\n",
    "# Args:\n",
    "#     list_json (list[str]): List json files.\n",
    "#     config : .env Config file\n",
    "# \"\"\""
   ]
  },
  {
   "cell_type": "code",
   "execution_count": null,
   "id": "7038b0ce-74ef-428f-95cd-670cdedf4ac5",
   "metadata": {
    "tags": []
   },
   "outputs": [],
   "source": [
    "from pathlib import Path\n",
    "import os\n",
    "from google.cloud.storage import Client, transfer_manager\n",
    "from dotenv import dotenv_values"
   ]
  },
  {
   "cell_type": "markdown",
   "id": "76617062-2dd5-4cc6-a063-552fef39f229",
   "metadata": {},
   "source": [
    "# Reference"
   ]
  },
  {
   "cell_type": "markdown",
   "id": "61093232-f933-426c-87d6-5a3b10ad946f",
   "metadata": {},
   "source": [
    "* https://cloud.google.com/storage/docs/samples/storage-transfer-manager-upload-directory#storage_transfer_manager_upload_directory-python\n",
    "* https://cloud.google.com/storage/docs/uploading-objects#storage-upload-object-python"
   ]
  },
  {
   "cell_type": "code",
   "execution_count": null,
   "id": "8a620ef4-3297-40c1-a52a-ac18b356d35c",
   "metadata": {},
   "outputs": [],
   "source": [
    "env_path='.env'\n",
    "config = dotenv_values(dotenv_path=env_path)\n",
    "\n",
    "source_path=config['INPUT_SEARCH_DATA_PATH']\n",
    "target_gs_bucket=config['TARGET_SEARCH_GS_PATH']\n",
    "\n",
    "#comment\n",
    "list_json = [ x for x in os.listdir(source_path)  if x.endswith(\".ndjson\")]\n",
    "print(list_json)"
   ]
  },
  {
   "cell_type": "code",
   "execution_count": null,
   "id": "d20072b4-d963-4706-b880-5e3df6b65df2",
   "metadata": {},
   "outputs": [],
   "source": [
    "def upload_many_files_blobs_with_transfer_manager(\n",
    "    bucket_name, filenames, source_directory=\"\", workers=8\n",
    "):\n",
    "    \"\"\"Upload every file in a list to a bucket, concurrently in a process pool.\n",
    "\n",
    "    Each blob name is derived from the filename, not including the\n",
    "    `source_directory` parameter. For complete control of the blob name for each\n",
    "    file (and other aspects of individual blob metadata), use\n",
    "    transfer_manager.upload_many() instead.\n",
    "    \"\"\"\n",
    "\n",
    "    # The ID of your GCS bucket\n",
    "    # bucket_name = \"your-bucket-name\"\n",
    "\n",
    "    # A list (or other iterable) of filenames to upload.\n",
    "    # filenames = [\"file_1.txt\", \"file_2.txt\"]\n",
    "\n",
    "    # The directory on your computer that is the root of all of the files in the\n",
    "    # list of filenames. This string is prepended (with os.path.join()) to each\n",
    "    # filename to get the full path to the file. Relative paths and absolute\n",
    "    # paths are both accepted. This string is not included in the name of the\n",
    "    # uploaded blob; it is only used to find the source files. An empty string\n",
    "    # means \"the current working directory\". Note that this parameter allows\n",
    "    # directory traversal (e.g. \"/\", \"../\") and is not intended for unsanitized\n",
    "    # end user input.\n",
    "    # source_directory=\"\"\n",
    "\n",
    "    # The maximum number of processes to use for the operation. The performance\n",
    "    # impact of this value depends on the use case, but smaller files usually\n",
    "    # benefit from a higher number of processes. Each additional process occupies\n",
    "    # some CPU and memory resources until finished. Threads can be used instead\n",
    "    # of processes by passing `worker_type=transfer_manager.THREAD`.\n",
    "    # workers=8\n",
    "\n",
    "\n",
    "    storage_client = Client()\n",
    "    bucket = storage_client.bucket(bucket_name)\n",
    "\n",
    "    # To advoid error fromuploading, worker_type=transfer_manager.THREAD \n",
    "    results = transfer_manager.upload_many_from_filenames(\n",
    "        bucket, filenames, source_directory=source_directory, max_workers=workers\n",
    "        ,worker_type=transfer_manager.THREAD\n",
    "    )\n",
    "\n",
    "    for name, result in zip(filenames, results):\n",
    "        # The results list is either `None` or an exception for each filename in\n",
    "        # the input list, in order.\n",
    "\n",
    "        if isinstance(result, Exception):\n",
    "            print(\"Failed to upload {} due to exception: {}\".format(name, result))\n",
    "        else:\n",
    "            print(\"Uploaded {} to {}.\".format(name, bucket.name))\n",
    "\n",
    "\n",
    "\n",
    "\n",
    "upload_many_files_blobs_with_transfer_manager(target_gs_bucket,list_json,source_path,workers=1)"
   ]
  },
  {
   "cell_type": "code",
   "execution_count": null,
   "id": "4c369dcd-8feb-4ee6-9f33-257cf23874f4",
   "metadata": {},
   "outputs": [],
   "source": [
    "# return True"
   ]
  }
 ],
 "metadata": {
  "kernelspec": {
   "display_name": "Python 3 (ipykernel)",
   "language": "python",
   "name": "python3"
  },
  "language_info": {
   "codemirror_mode": {
    "name": "ipython",
    "version": 3
   },
   "file_extension": ".py",
   "mimetype": "text/x-python",
   "name": "python",
   "nbconvert_exporter": "python",
   "pygments_lexer": "ipython3",
   "version": "3.10.12"
  }
 },
 "nbformat": 4,
 "nbformat_minor": 5
}
