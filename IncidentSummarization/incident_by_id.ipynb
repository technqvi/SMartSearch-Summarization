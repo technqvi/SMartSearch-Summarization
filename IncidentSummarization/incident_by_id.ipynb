{
 "cells": [
  {
   "cell_type": "code",
   "execution_count": null,
   "metadata": {},
   "outputs": [],
   "source": [
    "\"\"\"\n",
    "Template.txt\n",
    "Incident Case:\n",
    "\n",
    " {{ incidentInfo['product_type'] }}  has raised some troubles   at  {{ incidentInfo['open_datetime'] }}.\n",
    " This involved as detail below.\n",
    "  {{ incidentInfo['subject'] }}\n",
    "\n",
    "List Solution as the folloring steps\n",
    "{% for index,item in solutionDetailInfo.iterrows() %}\n",
    " {{ item['engineer_team' ] }} :  {{ item['solution_des'] }}. \n",
    " {% endfor %}\n",
    "\"\"\"\n",
    "\n",
    "\n",
    "import pandas as pd\n",
    "from jinja2 import Template\n",
    "\n",
    "# Read your Jinja template file\n",
    "with open('1-incident_content_template.txt', 'r') as file:\n",
    "    template_text = file.read()\n",
    "\n",
    "# Create a Jinja template object\n",
    "template = Template(template_text)\n",
    "\n",
    "# Define Pandas DataFrame and Series\n",
    "incidentSr = pd.Series (data={'open_datetime': '2024-01-24 10:00', \n",
    "                              'product_type': 'BigQuery',\n",
    "                              'subject':\"\"\" \n",
    "                               Why Load job often failed in BigQuery with \"Error while reading json data form google cloud storeage\"\n",
    "                              \"\"\"})\n",
    "detaiList = {\n",
    "    'engineer_team': ['Cloud Infrasturcture-Team', 'Data Engineeer-Team'],\n",
    "    'solution_des': [\"\"\" 1.Find the Audit Log for the corresponding BigQuery load job using the following filter in Cloud Logging:\n",
    "protoPayload.resourceName=\"projects/PROJECT_ID/jobs/JOB_ID\"\n",
    "protoPayload.methodName=\"google.cloud.bigquery.v2.JobService.InsertJob\" \"\"\"\n",
    "                     , \"\"\"\n",
    "2.Open the ERROR level entry and navigate to the following object to inspect the contents:\n",
    "protoPayload -> metadata -> job -> jobStatus -> error\n",
    "\"\"\" ]\n",
    "}\n",
    "detailDf = pd.DataFrame(detaiList)\n",
    "detailDf\n",
    "# # Render the template with Pandas variables\n",
    "rendered_text = template.render( incidentInfo=incidentSr,solutionDetailInfo=detailDf )\n",
    "\n",
    "# # # # Print the rendered text\n",
    "print(rendered_text)\n"
   ]
  },
  {
   "cell_type": "code",
   "execution_count": null,
   "metadata": {},
   "outputs": [],
   "source": [
    "import psycopg2\n",
    "import psycopg2.extras as extras\n",
    "import pandas as pd\n",
    "from datetime import datetime,timezone\n",
    "\n",
    "import os\n",
    "import sys \n",
    "\n",
    "import pandas as pd\n",
    "import numpy as np\n",
    "from datetime import datetime \n",
    "from google.cloud import bigquery\n",
    "from google.oauth2 import service_account\n",
    "\n",
    "from google.api_core import exceptions\n",
    "\n",
    "from dotenv import dotenv_values"
   ]
  },
  {
   "cell_type": "code",
   "execution_count": null,
   "metadata": {},
   "outputs": [],
   "source": [
    "incident_id=4369\n",
    "# 3743 goog sample AIS"
   ]
  },
  {
   "cell_type": "code",
   "execution_count": null,
   "metadata": {},
   "outputs": [],
   "source": [
    "# def get_incident_content(incident_id,model_id):\n",
    "#     \"\"\"\n",
    "#     Take incident id to get data from incident to create incident as content.\n",
    "#     Parameters:\n",
    "#     - incidetn_id (int):  id from app_incident table.\n",
    "#     - model_id (int):  1=text-bison 2=gemini-pro. The different model have different template.\n",
    "#     Returns:\n",
    "#     str: text that describe incident detail that is suitable format for Generative AI to generate summarization.\n",
    "#     \"\"\""
   ]
  },
  {
   "cell_type": "code",
   "execution_count": null,
   "metadata": {},
   "outputs": [],
   "source": [
    "\n",
    "config = dotenv_values('.env')"
   ]
  },
  {
   "cell_type": "code",
   "execution_count": null,
   "metadata": {},
   "outputs": [],
   "source": [
    "def get_postgres_conn():\n",
    " try:\n",
    "  conn = psycopg2.connect(\n",
    "        database=config['DATABASES_NAME'], user=config['DATABASES_USER'],\n",
    "      password=config['DATABASES_PASSWORD'], host=config['DATABASES_HOST']\n",
    "     )\n",
    "  return conn\n",
    "\n",
    " except Exception as error:\n",
    "  print(error)      \n",
    "  raise error\n",
    "def list_data_pg(sql,params,connection):\n",
    " df=None   \n",
    " with connection.cursor() as cursor:\n",
    "    \n",
    "    if params is None:\n",
    "       cursor.execute(sql)\n",
    "    else:\n",
    "       cursor.execute(sql,params)\n",
    "    \n",
    "    columns = [col[0] for col in cursor.description]\n",
    "    dataList = [dict(zip(columns, row)) for row in cursor.fetchall()]\n",
    "    df = pd.DataFrame(data=dataList) \n",
    " return df "
   ]
  },
  {
   "cell_type": "code",
   "execution_count": null,
   "metadata": {},
   "outputs": [],
   "source": [
    "sql_incident=f\" SELECT * FROM view_incident_summarization WHERE id = {incident_id} \"\n",
    "dfIncident=list_data_pg(sql_incident,None,get_postgres_conn())\n",
    "\n",
    "if dfIncident.empty!=True:\n",
    "    sr=dfIncident.iloc[0,:]\n",
    "    \n",
    "else:\n",
    "    raise Exception(f\"Not found incident id {incident_id}\")\n",
    "\n",
    "print(sr)\n"
   ]
  },
  {
   "cell_type": "code",
   "execution_count": null,
   "metadata": {},
   "outputs": [],
   "source": [
    "sql_detail=f\" SELECT * FROM view_incident_detail_summarization WHERE incident_id = {incident_id} \"\n",
    "dt=list_data_pg(sql_detail,None,get_postgres_conn())\n",
    "if dt.empty == False:\n",
    "    dt['no.'] = list(range(1, len(dt) + 1))\n",
    "    print(dt)\n",
    "else:\n",
    "    raise Exception(f\"Not found detail of incident id {incident_id}\")\n"
   ]
  },
  {
   "cell_type": "code",
   "execution_count": null,
   "metadata": {},
   "outputs": [],
   "source": [
    "incident_promt = f\"\"\"\n",
    "{sr[\"open_datetime\"]}, IT incident was reported regarding {sr[\"incident_type\"]} on {sr[\"product_type\"]} as {sr[\"severity\"]} severity-level . \n",
    "The incident was resolved at {sr[\"open_datetime\"]}.\n",
    "It involved {sr['model']}, product serial number {sr[\"serial\"]}, manufactured by {sr[\"brand\"]}. \n",
    "The incident subject was {sr[\"subject\"]}, incident description is indicated as detailed below.\n",
    "{sr[\"description\"]}\n",
    "\"\"\"\n",
    "\n",
    "detail_promtxt=\"\"\"\"\n",
    "The solution to resolve this incident involved task detail items \n",
    "as the following(Each item consists of Engineer-Team and Task-Description respectively).\n",
    "\n",
    "\"\"\"\n",
    "for index, item in dt.iterrows():\n",
    "  item_des=f\"\"\"{item[\"no.\"]}. {item['engineer_team']} :  {item['solution']}.\\r\\n\"\"\"\n",
    "  detail_promtxt=detail_promtxt+item_des\n",
    "\n"
   ]
  },
  {
   "cell_type": "code",
   "execution_count": null,
   "metadata": {},
   "outputs": [],
   "source": [
    "# prompt_template = \"\"\"\n",
    "#     Write a concise summary of the following text.\n",
    "#     Return your response in bullet points which covers the key points of the text.\n",
    "\n",
    "#     ```{text}```\n",
    "\n",
    "#     BULLET POINT SUMMARY:\n",
    "# \"\"\"\n",
    "# Provide a summary for the following article:\n",
    "# Provide a summary with about two sentences for the following article:\n",
    "# Provide a summary with about 3-5 paragraph for the following article:\n",
    "text=f\"\"\"\"\n",
    "Write a summary with about bullist and 3-5 paragraph for the following IT-Incident-Case:\n",
    "\n",
    "{incident_promt }\n",
    "{detail_promtxt}\n",
    "\n",
    "Summary:\n",
    "\n",
    "\"\"\"\n",
    "file_path = \"incident_conent.txt\"\n",
    "# Open the file in write mode\n",
    "with open(file_path, 'w') as file:\n",
    "    # Write the content to the file\n",
    "    file.write(text)\n",
    "\n",
    "print(text)"
   ]
  },
  {
   "cell_type": "code",
   "execution_count": null,
   "metadata": {},
   "outputs": [],
   "source": [
    "# return text"
   ]
  }
 ],
 "metadata": {
  "kernelspec": {
   "display_name": "Python 3 (ipykernel)",
   "language": "python",
   "name": "python3"
  },
  "language_info": {
   "codemirror_mode": {
    "name": "ipython",
    "version": 3
   },
   "file_extension": ".py",
   "mimetype": "text/x-python",
   "name": "python",
   "nbconvert_exporter": "python",
   "pygments_lexer": "ipython3",
   "version": "3.10.11"
  }
 },
 "nbformat": 4,
 "nbformat_minor": 4
}
