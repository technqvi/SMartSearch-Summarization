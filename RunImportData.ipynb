{
 "cells": [
  {
   "cell_type": "code",
   "execution_count": null,
   "id": "bfd66555-2d36-4a40-9823-b94eec108ee0",
   "metadata": {
    "tags": []
   },
   "outputs": [],
   "source": [
    "from dotenv import dotenv_values\n",
    "from configupdater import ConfigUpdater\n",
    "from datetime import datetime,timezone\n",
    "from  IncidentSearch_DataProcessing import CreateIncidentJsonForSearch,IngestIncidentDataToGSC,ImportIncidentDataToSearchApp"
   ]
  },
  {
   "cell_type": "markdown",
   "id": "0ef1e5d1-577c-4403-8687-9b5a8e0a52ed",
   "metadata": {
    "tags": []
   },
   "source": [
    "# Name\n",
    "#### App Name : incident-search-app-yip\n",
    "#### DataStore Name :  incident-search-ds\n",
    "#### GS: incident-search-essm-yip"
   ]
  },
  {
   "cell_type": "markdown",
   "id": "7b41c450-3dbb-4ac6-843f-ef925f97e429",
   "metadata": {},
   "source": [
    "# Init"
   ]
  },
  {
   "cell_type": "code",
   "execution_count": null,
   "id": "25846fe8-beaa-4328-885f-ee7405c0d1bb",
   "metadata": {
    "tags": []
   },
   "outputs": [],
   "source": [
    "mode=\"FULL\" \n",
    "#mode=\"INCREMENTAL\"\n",
    "\n",
    "dt_imported=datetime.now()\n",
    "dt_imported=datetime.strptime(dt_imported.strftime(\"%Y-%m-%d %H:%M:%S\"),\"%Y-%m-%d %H:%M:%S\")\n",
    "print(f\"Import At : {dt_imported}\")\n",
    "\n",
    "# For manual load start and end+1 day '2023-11-22' - '2023-11-23'  \n",
    "start_date_query=None\n",
    "end_date_query=None  \n"
   ]
  },
  {
   "cell_type": "code",
   "execution_count": null,
   "id": "9d8905cd-eefe-4072-9692-7113c8eae2b5",
   "metadata": {
    "tags": []
   },
   "outputs": [],
   "source": [
    "#env_path='../.env' # production\n",
    "env_path='.env'  # dev\n",
    "config = dotenv_values(dotenv_path=env_path)\n",
    "\n",
    "updater = ConfigUpdater()\n",
    "updater.read(\".cfg\")\n",
    "\n",
    "\n",
    "\n",
    "last_imported=datetime.strptime(updater[\"metadata\"][\"last_import\"].value,\"%Y-%m-%d %H:%M:%S\")\n",
    "\n",
    "if start_date_query is None:\n",
    " start_date_query=last_imported\n",
    "\n",
    "\n",
    "print(f\"We are about to import incident from { start_date_query} to  {end_date_query}\")\n",
    "\n",
    "#Options: 'FULL', 'INCREMENTAL'\n",
    "\n",
    "directory_path = config['INPUT_SEARCH_DATA_PATH']\n",
    "gsc_path=['TARGET_SEARCH_GS_PATH']"
   ]
  },
  {
   "cell_type": "markdown",
   "id": "4b4c6370-3fc0-437a-bded-55ce5efa480f",
   "metadata": {},
   "source": [
    "# Step#1 Create Incident Json Files"
   ]
  },
  {
   "cell_type": "code",
   "execution_count": null,
   "id": "8e6cd867-d2a7-4b6e-8dbf-f252d6742ae1",
   "metadata": {
    "tags": []
   },
   "outputs": [],
   "source": [
    "print(f\"Step#1 Create Incident Json on {start_date_query} to {end_date_query}\")"
   ]
  },
  {
   "cell_type": "code",
   "execution_count": null,
   "id": "c7e568fd-5101-47d1-ae05-ddba0a3f2e12",
   "metadata": {
    "tags": []
   },
   "outputs": [],
   "source": [
    "listNewlyCratedFiles=CreateIncidentJsonForSearch.create_incident_json_data(start_date_query,end_date_query,config)"
   ]
  },
  {
   "cell_type": "markdown",
   "id": "e690e6fa-dc18-4aca-a373-6a77a9b5eca5",
   "metadata": {},
   "source": [
    "# Step#2 Ingest data to Google Storage"
   ]
  },
  {
   "cell_type": "code",
   "execution_count": null,
   "id": "150a66d7-19a5-4828-90b6-935c33c4c05b",
   "metadata": {
    "tags": []
   },
   "outputs": [],
   "source": [
    "# ! gsutil -m rm gs://incident-smart-search-yip/**\n",
    "# listNewlyCratedFiles=['22112023_2-daily_incident.ndjson']"
   ]
  },
  {
   "cell_type": "code",
   "execution_count": null,
   "id": "8b1b5ec1-0eb9-48b4-a8fd-bcd375b02568",
   "metadata": {
    "tags": []
   },
   "outputs": [],
   "source": [
    "print(\"Step#2 Ingest data to Google Storage\")"
   ]
  },
  {
   "cell_type": "code",
   "execution_count": null,
   "id": "2004f754-2ad9-4439-aa44-bde051871d0b",
   "metadata": {
    "tags": []
   },
   "outputs": [],
   "source": [
    "if len(listNewlyCratedFiles)>0:\n",
    "   gs_ok= IngestIncidentDataToGSC.ingest_incident_json_to_gs(listNewlyCratedFiles,config)\n",
    "   print(gs_ok)\n",
    "else:\n",
    "    print(\"No data to search.\")\n",
    "    exit()"
   ]
  },
  {
   "cell_type": "markdown",
   "id": "f61b9458-bbe7-4845-b028-af00a5f0867f",
   "metadata": {},
   "source": [
    "# Step#3 Import data from GS to DataStore"
   ]
  },
  {
   "cell_type": "markdown",
   "id": "b446549d-2b36-4e0f-89c5-940b589b765d",
   "metadata": {},
   "source": [
    "## Follow these steps for the first \n",
    "### upload doc muanually\n",
    "* if there is no search app and data store ,please create both\n",
    "* import data with file to dsatastore as full load at first with small file to generate schema (JSONL for structured data (Preview)\n",
    "* https://cloud.google.com/generative-ai-app-builder/docs/create-data-store-es\n",
    "* purge data in order to reload with _id(incident id in SMartApp) \n",
    "* delete file on GS\n",
    "### import jsonfile programmatically with \"Full load mode\"\n",
    "* repeat step#1 to full load\n",
    "* edit schema as necessary\n",
    "* Incrematal load "
   ]
  },
  {
   "cell_type": "code",
   "execution_count": null,
   "id": "ed927493-e50a-406b-b0b0-99423870b304",
   "metadata": {
    "tags": []
   },
   "outputs": [],
   "source": [
    "import_ok=ImportIncidentDataToSearchApp.import_incident_json_to_search_datestore(list_json=listNewlyCratedFiles\n",
    "                                                                                 ,config=config\n",
    "                                                                                 ,import_mode=mode)"
   ]
  },
  {
   "cell_type": "markdown",
   "id": "89ad449b-bee2-4617-8cfa-01430f886dd2",
   "metadata": {},
   "source": [
    "# Step#4 Delelte Json Files"
   ]
  },
  {
   "cell_type": "code",
   "execution_count": null,
   "id": "5c787ac8-af4f-4b0c-be35-75746df4d459",
   "metadata": {
    "tags": []
   },
   "outputs": [],
   "source": [
    "import os\n",
    "\n",
    "def delete_files_in_directory(directory_path):\n",
    "   try:\n",
    "     files = os.listdir(directory_path)\n",
    "     for file in files:\n",
    "       file_path = os.path.join(directory_path, file)\n",
    "       if os.path.isfile(file_path):\n",
    "         os.remove(file_path)\n",
    "     print(\"All files deleted successfully.\")\n",
    "   except OSError:\n",
    "     print(\"Error occurred while deleting files.\")\n",
    "\n",
    "# Usage\n",
    "\n",
    "\n",
    "delete_files_in_directory(directory_path)"
   ]
  },
  {
   "cell_type": "code",
   "execution_count": null,
   "id": "0ba7b9dd-bbb2-42c9-839b-e0158d53a9ba",
   "metadata": {
    "tags": []
   },
   "outputs": [],
   "source": [
    "updater[\"metadata\"][\"last_import\"].value=dt_imported.strftime(\"%Y-%m-%d %H:%M:%S\")\n",
    "updater.update_file() "
   ]
  },
  {
   "cell_type": "code",
   "execution_count": null,
   "id": "a7c452a4-faa3-4759-af98-12c37ea2555f",
   "metadata": {},
   "outputs": [],
   "source": []
  }
 ],
 "metadata": {
  "kernelspec": {
   "display_name": "Python 3 (ipykernel)",
   "language": "python",
   "name": "python3"
  },
  "language_info": {
   "codemirror_mode": {
    "name": "ipython",
    "version": 3
   },
   "file_extension": ".py",
   "mimetype": "text/x-python",
   "name": "python",
   "nbconvert_exporter": "python",
   "pygments_lexer": "ipython3",
   "version": "3.10.12"
  }
 },
 "nbformat": 4,
 "nbformat_minor": 5
}
